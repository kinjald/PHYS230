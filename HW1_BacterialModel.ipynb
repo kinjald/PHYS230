{
 "cells": [
  {
   "cell_type": "markdown",
   "metadata": {},
   "source": [
    "# Homework 1:  Plotting and data fitting with bacterial model\n",
    "\n",
    "This is the second part of the the “First Computer Lab” exercise in Kinder and Nelson’s book on Python. Please work on this assignment on a jupyter notebook and turn it in as an ipynb file.   You may use the \"viral_lab_1\" notebook we worked on in class as an example.\n",
    "\n",
    "## Genetic switching in bacteria.\n",
    "In 1957, Novick and Weiner studied the production of a protein called beta galactosidase in E. coli bacteria after introducing an inducer molecule called TMG.\n",
    "\n",
    "## 1. Explore the model\n",
    "Here are two families of functions that come up in the analysis of the Novick-Weiner experiment:\n",
    "$$V (t) = 1 − \\exp(−t/\\tau) $$       and      $$W (t) = A (\\exp(−t/\\tau) − 1 + t/ \\tau )$$                   \n",
    "The parameters $\\tau$ and $A$ are constants.\n",
    "\n",
    "## Assignment:\n",
    "In the next few cells,\n",
    "a.\tChoose $A = 1$, $\\tau = 1$, and plot $W(t)$ for $0 < t < 2$. <br>\n",
    "b.\tMake several arrays W1, W2, W3, and so on, using different values of $\\tau$ and $A$, and plot them simultaneously on the same graph. <br>\n",
    "c.\tChange the colors and line styles (solid, dashed, and so on) of the lines. <br>\n",
    "d.\tAdd a legend to help a potential reader sort out the curves. Explore some of the other graph options that are available."
   ]
  },
  {
   "cell_type": "code",
   "execution_count": null,
   "metadata": {},
   "outputs": [],
   "source": []
  },
  {
   "cell_type": "markdown",
   "metadata": {},
   "source": [
    "## 2.Fit experimental data\n",
    "From the data set you downloaded and unzipped in class, find the data set 15novick. Copy g149novickA.csv, g149novickA.npy, g149novickB.csv, g149novickB.npy, and README.txt into your working directory. The files contain time series data from a bacterial population in a culture.\n",
    "\n",
    "## Assignment:\n",
    "a. Superimpose the experimental data points on a plot of $V(t)$ with multiple curves, similar to the one you made for $W(t)$ before. Plot the experimental data points. Don’t join the points by line segments; make each point a symbol such as a small circle or plus sign. Label the axes of your plot. Select some reasonable values for the parameter $\\tau$ in the model, and see if you can get a curve that fits the data well. Label the curves, then add a legend to identify which curve is which.<br>\n",
    "\n",
    "b. Now try the same thing using the data in g149novickB.csv or g149novickB.npy. This time throw away all the data with time value greater than ten hours, and attempt to fit the remaining data to the family of functions $W(t)$. <br>\n",
    "\n",
    "[Hint: At large values of t, both the data and the function W (t) become straight lines. Find the slope and the y intercept of the straight line determined by the Equation in terms of the two unknown quantities $A$ and $\\tau$ . Next, estimate the slope and y intercept of the straight line determined by the data. From this, figure out some pretty good guesses for the values of A and $\\tau$ . Then, tweak the values to get a nicer looking fit.]\n",
    "[Remark: Again, you are asked not to use an automatic curve-fitting system. The methods suggested in the Hint will give you a deeper understanding of the math than just accepting whatever a black\n",
    "box spits out.]\n"
   ]
  },
  {
   "cell_type": "code",
   "execution_count": null,
   "metadata": {},
   "outputs": [],
   "source": []
  }
 ],
 "metadata": {
  "kernelspec": {
   "display_name": "Python 3",
   "language": "python",
   "name": "python3"
  },
  "language_info": {
   "codemirror_mode": {
    "name": "ipython",
    "version": 3
   },
   "file_extension": ".py",
   "mimetype": "text/x-python",
   "name": "python",
   "nbconvert_exporter": "python",
   "pygments_lexer": "ipython3",
   "version": "3.7.3"
  }
 },
 "nbformat": 4,
 "nbformat_minor": 2
}
